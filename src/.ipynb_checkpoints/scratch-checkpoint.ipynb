{
 "cells": [
  {
   "cell_type": "code",
   "execution_count": 49,
   "id": "7b6426b4-8218-43c4-9dc4-775cc25b912b",
   "metadata": {
    "tags": []
   },
   "outputs": [],
   "source": [
    ":dep chrono = \"*\"\n",
    "use std::env;\n",
    "extern crate chrono;\n",
    "use chrono::{NaiveDate, Timelike};\n",
    "\n",
    "struct VacationPeriod {\n",
    "    start_date: String,\n",
    "    stop_date: String,\n",
    "}\n",
    "\n",
    "fn format_date(datestamp: &str) -> String {\n",
    "    let parsed_date = NaiveDate::parse_from_str(datestamp, \"%Y-%m-%d\").unwrap();\n",
    "    let formatted_date = parsed_date.format(\"%A, %-m/%-d\").to_string();\n",
    "    formatted_date\n",
    "}\n",
    "\n",
    "fn main() {\n",
    "    // Simulating command line arguments for testing\n",
    "    let test_args = vec![\n",
    "        String::from(\"vacation.rs\"),          // Program name\n",
    "        String::from(\"2023-06-01\"),            // Start date 1\n",
    "        String::from(\"2023-06-10\"),            // Stop date 1\n",
    "        String::from(\"2023-06-17\"),            // Start date 2\n",
    "        String::from(\"2023-06-17\"),            // Stop date 2\n",
    "        String::from(\"2023-07-01\"),            // Start date 3\n",
    "        String::from(\"2023-07-07\"),            // Stop date 3\n",
    "    ];\n",
    "\n",
    "    let args: Vec<String> = test_args;\n",
    "\n",
    "    if args.len() <= 1 || args.len() % 2 != 1 {\n",
    "        println!(\"Invalid number of arguments. Please provide pairs of start and stop dates.\");\n",
    "        return;\n",
    "    }\n",
    "\n",
    "    let mut vacation_periods = Vec::new();\n",
    "    for chunk in args[1..].chunks(2) {\n",
    "        let start_date = chunk[0].clone();\n",
    "        let stop_date = chunk[1].clone();\n",
    "        let period = VacationPeriod {\n",
    "            start_date: format_date(&start_date),\n",
    "            stop_date: format_date(&stop_date),\n",
    "        };\n",
    "        vacation_periods.push(period);\n",
    "    }\n",
    "\n",
    "    println!(\"Hello,\\n\\nI plan to take the following day(s) as vacation:\");\n",
    "    for period in vacation_periods {\n",
    "        if period.start_date == period.stop_date {\n",
    "            println!(\"     {}\", period.start_date);\n",
    "        } else {\n",
    "            println!(\"     {} - {}\", period.start_date, period.stop_date);\n",
    "        }\n",
    "    }\n",
    "    println!(\"\\nThank you,\\nRyan\");\n",
    "}"
   ]
  },
  {
   "cell_type": "code",
   "execution_count": 50,
   "id": "8e255450-da6e-40a7-8c69-b65e48829ed5",
   "metadata": {
    "tags": []
   },
   "outputs": [
    {
     "name": "stdout",
     "output_type": "stream",
     "text": [
      "Hello,\n",
      "\n",
      "I plan to take the following day(s) as vacation:\n",
      "     Thursday, 6/1 - Saturday, 6/10\n",
      "     Saturday, 6/17\n",
      "     Saturday, 7/1 - Friday, 7/7\n",
      "\n",
      "Thank you,\n",
      "Ryan\n"
     ]
    },
    {
     "data": {
      "text/plain": [
       "()"
      ]
     },
     "execution_count": 50,
     "metadata": {},
     "output_type": "execute_result"
    }
   ],
   "source": [
    "main()"
   ]
  },
  {
   "cell_type": "code",
   "execution_count": null,
   "id": "32826cc1-58e2-44f7-8dfe-8e8a520d9343",
   "metadata": {},
   "outputs": [],
   "source": []
  }
 ],
 "metadata": {
  "kernelspec": {
   "display_name": "Rust",
   "language": "rust",
   "name": "rust"
  },
  "language_info": {
   "codemirror_mode": "rust",
   "file_extension": ".rs",
   "mimetype": "text/rust",
   "name": "Rust",
   "pygment_lexer": "rust",
   "version": ""
  }
 },
 "nbformat": 4,
 "nbformat_minor": 5
}

{
 "cells": [
  {
   "cell_type": "code",
   "execution_count": 5,
   "id": "ba07500e-6f3a-4e06-b48f-56762b544e86",
   "metadata": {
    "tags": []
   },
   "outputs": [],
   "source": [
    "fn main() {\n",
    "    print_fizzbuzz_to(20);\n",
    "}\n",
    "\n",
    "fn is_divisible(n: u32, divisor: u32) -> bool {\n",
    "    if divisor == 0 {\n",
    "        return false;\n",
    "    }\n",
    "    n % divisor == 0\n",
    "}\n",
    "\n",
    "fn fizzbuzz(n: u32) -> String {\n",
    "    let fizz = if is_divisible(n, 3) { \"fizz\" } else { \"\" };\n",
    "    let buzz = if is_divisible(n, 5) { \"buzz\" } else { \"\" };\n",
    "    if fizz.is_empty() && buzz.is_empty() {\n",
    "        return format!(\"{n}\");\n",
    "    }\n",
    "    format!(\"{fizz}{buzz}\")\n",
    "}\n",
    "\n",
    "fn print_fizzbuzz_to(n: u32) {\n",
    "    for i in 1..=n {\n",
    "        println!(\"{}\", fizzbuzz(i));\n",
    "    }\n",
    "}"
   ]
  },
  {
   "cell_type": "code",
   "execution_count": 6,
   "id": "59f1d073-a883-447e-88d4-992dc6746195",
   "metadata": {
    "tags": []
   },
   "outputs": [
    {
     "name": "stdout",
     "output_type": "stream",
     "text": [
      "1\n",
      "2\n",
      "fizz\n",
      "4\n",
      "buzz\n",
      "fizz\n",
      "7\n",
      "8\n",
      "fizz\n",
      "buzz\n",
      "11\n",
      "fizz\n",
      "13\n",
      "14\n",
      "fizzbuzz\n",
      "16\n",
      "17\n",
      "fizz\n",
      "19\n",
      "buzz\n"
     ]
    },
    {
     "data": {
      "text/plain": [
       "()"
      ]
     },
     "execution_count": 6,
     "metadata": {},
     "output_type": "execute_result"
    }
   ],
   "source": [
    "main()"
   ]
  },
  {
   "cell_type": "code",
   "execution_count": null,
   "id": "0eea5063-0ad5-48df-81b6-538ab93e2c8f",
   "metadata": {},
   "outputs": [],
   "source": []
  }
 ],
 "metadata": {
  "kernelspec": {
   "display_name": "Rust",
   "language": "rust",
   "name": "rust"
  },
  "language_info": {
   "codemirror_mode": "rust",
   "file_extension": ".rs",
   "mimetype": "text/rust",
   "name": "Rust",
   "pygment_lexer": "rust",
   "version": ""
  }
 },
 "nbformat": 4,
 "nbformat_minor": 5
}
